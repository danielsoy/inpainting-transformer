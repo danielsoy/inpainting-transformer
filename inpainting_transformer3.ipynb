{
  "cells": [
    {
      "cell_type": "code",
      "execution_count": null,
      "metadata": {
        "colab": {
          "base_uri": "https://localhost:8080/"
        },
        "id": "DhSvVFwY32z-",
        "outputId": "361ee7bb-599a-46c2-d844-2356fde480ae"
      },
      "outputs": [
        {
          "name": "stdout",
          "output_type": "stream",
          "text": [
            "Cloning into 'inpainting-transformer'...\n",
            "remote: Enumerating objects: 34, done.\u001b[K\n",
            "remote: Total 34 (delta 0), reused 0 (delta 0), pack-reused 34\u001b[K\n",
            "Unpacking objects: 100% (34/34), 16.62 KiB | 740.00 KiB/s, done.\n"
          ]
        }
      ],
      "source": [
        "#!git clone https://github.com/jhy12/inpainting-transformer.git\n",
        "!git clone https://github.com/danielsoy/inpainting-transformer.git\n",
        "\n",
        "\n",
        "from google.colab import drive\n",
        "drive.mount('/content/gdrive/', force_remount=True)\n",
        "\n",
        "cd /content/inpainting-transformer\n",
        "\n",
        "!pip install einops"
      ]
    },
    {
      "cell_type": "code",
      "execution_count": 1,
      "metadata": {
        "colab": {
          "base_uri": "https://localhost:8080/"
        },
        "id": "iRwIRSm96Cin",
        "outputId": "0d44562d-8209-4817-fefe-66fd71325d17"
      },
      "outputs": [
        {
          "name": "stderr",
          "output_type": "stream",
          "text": [
            "Traceback (most recent call last):\n",
            "  File \"c:\\Users\\libro\\OneDrive\\Escritorio\\modelos de hoy\\main.py\", line 14, in <module>\n",
            "    from dataset import MVTecAD_loader\n",
            "ImportError: cannot import name 'MVTecAD_loader' from 'dataset' (c:\\Users\\libro\\anaconda3\\lib\\site-packages\\dataset\\__init__.py)\n"
          ]
        }
      ],
      "source": [
        "!python main.py"
      ]
    },
    {
      "cell_type": "markdown",
      "metadata": {
        "id": "l1z86Mt67eMk"
      },
      "source": [
        "/content/gdrive/MyDrive/MVTec_hazel/hazelnut"
      ]
    }
  ],
  "metadata": {
    "accelerator": "GPU",
    "colab": {
      "provenance": []
    },
    "gpuClass": "standard",
    "kernelspec": {
      "display_name": "openvino_env",
      "language": "python",
      "name": "openvino_env"
    },
    "language_info": {
      "codemirror_mode": {
        "name": "ipython",
        "version": 3
      },
      "file_extension": ".py",
      "mimetype": "text/x-python",
      "name": "python",
      "nbconvert_exporter": "python",
      "pygments_lexer": "ipython3",
      "version": "3.9.13"
    }
  },
  "nbformat": 4,
  "nbformat_minor": 0
}
